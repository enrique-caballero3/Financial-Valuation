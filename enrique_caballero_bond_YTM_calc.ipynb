{
 "cells": [
  {
   "cell_type": "code",
   "execution_count": 11,
   "id": "e105feea-0409-4d61-a1d4-b34a388c8fe1",
   "metadata": {},
   "outputs": [],
   "source": [
    "# The program will calculate a bond price given its yield to maturity\n",
    "import numpy as np\n",
    "import bond_module"
   ]
  },
  {
   "cell_type": "code",
   "execution_count": 19,
   "id": "c18e4e5a-1227-4b0e-9ce2-eee26a58afec",
   "metadata": {},
   "outputs": [
    {
     "name": "stdout",
     "output_type": "stream",
     "text": [
      "Bond price given a yield to maturity of 7% is: 1310.6\n"
     ]
    }
   ],
   "source": [
    "M = 1500\n",
    "T = 15 \n",
    "c = 0.05\n",
    "y = 0.045\n",
    "bond_value = bond_module.bondval(M, T, c, y)\n",
    "bond_value = np.round(bond_value, 2)\n",
    "print(\"Bond price given a yield to maturity of 7% is:\", bond_value)"
   ]
  },
  {
   "cell_type": "code",
   "execution_count": 33,
   "id": "b401ad34-a60f-4b42-bb06-9b95b38a34ff",
   "metadata": {},
   "outputs": [
    {
     "name": "stdout",
     "output_type": "stream",
     "text": [
      "Check - for debugging: 261.6286574095143 Current Bond Value: 1238.3713425904857 Target Price: 1500\n",
      "Check - for debugging: 14.446939482595099 Current Bond Value: 1514.446939482595 Target Price: 1500\n",
      "Check - for debugging: 1.7304563062407397 Current Bond Value: 1498.2695436937593 Target Price: 1500\n",
      "Converged: If bond price = 1500, the yield to maturity is 3.33%\n"
     ]
    }
   ],
   "source": [
    "M = 1500\n",
    "T = 15\n",
    "c = 0.05\n",
    "price = 1500\n",
    "#\n",
    "guess1 = 0.04\n",
    "val1 = bond_module.bondval(M, T, c, guess1)\n",
    "#\n",
    "guess2 = 0.05\n",
    "val2 = bond_module.bondval(M, T, c, guess2)\n",
    "# calculate the YTM using the secant method\n",
    "tolerance = 0.01\n",
    "check = abs(price - val2)\n",
    "while check > tolerance:\n",
    "    print(\"Check - for debugging:\", check, \"Current Bond Value:\", val2, \"Target Price:\", price)\n",
    "    guess_new = guess2 - ((guess2 - guess1) / (val2 - val1)) * (val2 - price)\n",
    "    guess1 = guess2\n",
    "    guess2 = guess_new\n",
    "    val1 = val2\n",
    "    val2 = bond_module.bondval(M, T, c, guess2)\n",
    "    check = abs(price - val2)\n",
    "    # Convert the final YTM to an annual percentage\n",
    "bond_yield = guess2 * 100\n",
    "bond_yield = np.round(bond_yield, 2)\n",
    "print(f\"Converged: If bond price = {price}, the yield to maturity is {bond_yield}%\")"
   ]
  },
  {
   "cell_type": "code",
   "execution_count": null,
   "id": "0d781a11-f3ac-405d-82da-74b4e78f1db9",
   "metadata": {},
   "outputs": [],
   "source": []
  }
 ],
 "metadata": {
  "kernelspec": {
   "display_name": "Python 3 (ipykernel)",
   "language": "python",
   "name": "python3"
  },
  "language_info": {
   "codemirror_mode": {
    "name": "ipython",
    "version": 3
   },
   "file_extension": ".py",
   "mimetype": "text/x-python",
   "name": "python",
   "nbconvert_exporter": "python",
   "pygments_lexer": "ipython3",
   "version": "3.12.4"
  }
 },
 "nbformat": 4,
 "nbformat_minor": 5
}
