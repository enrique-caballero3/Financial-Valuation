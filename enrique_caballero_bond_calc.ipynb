{
 "cells": [
  {
   "cell_type": "code",
   "execution_count": 5,
   "id": "f9579f0b-c4e3-4e71-9fe3-34189fc4424c",
   "metadata": {},
   "outputs": [
    {
     "name": "stdout",
     "output_type": "stream",
     "text": [
      "1000.0\n"
     ]
    }
   ],
   "source": [
    "#\n",
    "# This program calculates the\n",
    "# YTM of a bond, given bond price\n",
    "#\n",
    "import numpy\n",
    "import bond_module\n",
    "bondvalue = bond_module.bondval(1000, 20, 0.07, 0.07)\n",
    "bondvalue = numpy.round(bondvalue, 2)\n",
    "print(bondvalue)"
   ]
  },
  {
   "cell_type": "code",
   "execution_count": 13,
   "id": "800f401f-a642-404b-b13f-0f6577d28ebc",
   "metadata": {},
   "outputs": [
    {
     "name": "stdout",
     "output_type": "stream",
     "text": [
      "Check - for debugging 84.22153158856622 895.7784684114338 980\n",
      "Check - for debugging 3.0674116314064577 983.0674116314065 980\n",
      "Check - for debugging 0.17580385571363877 979.8241961442864 980\n",
      "Converged - if bond price = 980 , yield is 6.27\n"
     ]
    }
   ],
   "source": [
    "#\n",
    "# Calculate Yield, Given Price\n",
    "#\n",
    "# Input Price of the bond\n",
    "M = 1000\n",
    "T = 10\n",
    "c = 0.06\n",
    "#\n",
    "price = 980\n",
    "#\n",
    "guess1 = 0.07\n",
    "val1 = bond_module.bondval(M, T, c, guess1)\n",
    "#\n",
    "guess2 = 0.075\n",
    "val2 = bond_module.bondval(M, T, c, guess2)\n",
    "check = abs(price - val2)\n",
    "while check > 0.01:\n",
    "    print(\"Check - for debugging\", check, val2, price)\n",
    "    guessnew = guess2 - ((guess2 - guess1) / (val2 - val1)) * (val2 - price)\n",
    "    guess1 = guess2\n",
    "    guess2 = guessnew\n",
    "    val1 = val2\n",
    "    val2 = bond_module.bondval(M, T, c, guess2)\n",
    "    check = abs(price - val2)\n",
    "#\n",
    "bond_yield = guess2 * 100\n",
    "bond_yield = numpy.round(bond_yield, 2)\n",
    "print(\"Converged - if bond price =\", price, \", yield is\", bond_yield)"
   ]
  },
  {
   "cell_type": "code",
   "execution_count": null,
   "id": "b3d0510e-1972-498d-abd5-a894a0d355ce",
   "metadata": {},
   "outputs": [],
   "source": []
  }
 ],
 "metadata": {
  "kernelspec": {
   "display_name": "Python 3 (ipykernel)",
   "language": "python",
   "name": "python3"
  },
  "language_info": {
   "codemirror_mode": {
    "name": "ipython",
    "version": 3
   },
   "file_extension": ".py",
   "mimetype": "text/x-python",
   "name": "python",
   "nbconvert_exporter": "python",
   "pygments_lexer": "ipython3",
   "version": "3.12.4"
  }
 },
 "nbformat": 4,
 "nbformat_minor": 5
}
