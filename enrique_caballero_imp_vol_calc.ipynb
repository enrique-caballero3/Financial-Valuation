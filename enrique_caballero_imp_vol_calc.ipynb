{
 "cells": [
  {
   "cell_type": "code",
   "execution_count": 3,
   "id": "f2b37c90-99f9-4df5-af52-4cf4e52ed346",
   "metadata": {},
   "outputs": [
    {
     "data": {
      "text/plain": [
       "5.23"
      ]
     },
     "execution_count": 3,
     "metadata": {},
     "output_type": "execute_result"
    }
   ],
   "source": [
    "#\n",
    "# Illustrate the numerical solution for implied volatility\n",
    "#\n",
    "import numpy\n",
    "import bs_module\n",
    "bs_module.bsval(100, 100, 1, 0.05, 0.2, 1)\n",
    "bs_module.bsval(50, 50, 1, 0.05, 0.2, 1)"
   ]
  },
  {
   "cell_type": "code",
   "execution_count": 15,
   "id": "3ed74fc7-eb03-4fd7-bdfb-15d07624a8d1",
   "metadata": {},
   "outputs": [
    {
     "name": "stdout",
     "output_type": "stream",
     "text": [
      "Check - for debugging 5.52 0.075 5.98 11.5\n",
      "Check - for debugging 0.16999999999999993 0.22338709677419355 11.33 11.5\n",
      "Check - for debugging 0.009999999999999787 0.22810220078384083 11.51 11.5\n",
      "Converged - if option price = 11.5 , implied_vol is 22.81\n"
     ]
    }
   ],
   "source": [
    "#Calculate implied volatility given option price\n",
    "#\n",
    "#input price of the option\n",
    "#\n",
    "S = 100\n",
    "K = 100\n",
    "T = 1\n",
    "rf = 0.05\n",
    "type=1\n",
    "#\n",
    "price=11.5\n",
    "#\n",
    "guess1=0.5\n",
    "val1=bs_module.bsval(S, K, T, rf, guess1, type)\n",
    "#\n",
    "guess2=0.075\n",
    "val2=bs_module.bsval(S, K, T, rf, guess2, type)\n",
    "check=abs(price-val2)\n",
    "while check > 0.01:\n",
    "    print(\"Check - for debugging\", check, guess2, val2, price)  \n",
    "    guessnew=guess2-((guess2-guess1)/(val2-val1))*(val2-price)\n",
    "    guess1=guess2\n",
    "    guess2=guessnew\n",
    "    val1=val2\n",
    "    val2=bs_module.bsval(S, K, T, rf, guess2, type)\n",
    "    check=abs(price-val2)\n",
    "#\n",
    "print(\"Check - for debugging\", check, guess2, val2, price) \n",
    "#\n",
    "implied_vol=guess2*100\n",
    "implied_vol=numpy.round(implied_vol, 2)\n",
    "print(\"Converged - if option price =\", price, \", implied_vol is\", implied_vol)"
   ]
  },
  {
   "cell_type": "code",
   "execution_count": null,
   "id": "59908484-eb91-4bcb-b972-406f624b2aeb",
   "metadata": {},
   "outputs": [],
   "source": []
  }
 ],
 "metadata": {
  "kernelspec": {
   "display_name": "Python 3 (ipykernel)",
   "language": "python",
   "name": "python3"
  },
  "language_info": {
   "codemirror_mode": {
    "name": "ipython",
    "version": 3
   },
   "file_extension": ".py",
   "mimetype": "text/x-python",
   "name": "python",
   "nbconvert_exporter": "python",
   "pygments_lexer": "ipython3",
   "version": "3.12.4"
  }
 },
 "nbformat": 4,
 "nbformat_minor": 5
}
