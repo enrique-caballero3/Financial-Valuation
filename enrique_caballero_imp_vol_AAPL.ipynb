{
 "cells": [
  {
   "cell_type": "code",
   "execution_count": 19,
   "id": "6d3ed6c6-be67-4fca-88b5-e7740cd33645",
   "metadata": {},
   "outputs": [],
   "source": [
    "#This program looks at AAPL options data and calculates implied volatility for selected OTM, ATM, and ITM options using the Black-Scholes model.\n",
    "import yfinance as yf\n",
    "import numpy as np\n",
    "import pandas as pd\n",
    "from scipy.stats import norm"
   ]
  },
  {
   "cell_type": "code",
   "execution_count": 21,
   "id": "76bb8f9d-fcca-43c5-a692-6f4c86b94119",
   "metadata": {},
   "outputs": [
    {
     "name": "stdout",
     "output_type": "stream",
     "text": [
      "Current stock price of AAPL: 233.0\n"
     ]
    }
   ],
   "source": [
    "# Fetch Apple Inc. (AAPL) options data\n",
    "ticker = 'AAPL'\n",
    "stock = yf.Ticker(ticker)\n",
    "#\n",
    "# Get the next available expiration date (~3 months out)\n",
    "expiration_dates = stock.options\n",
    "expiration_date = expiration_dates[1]  # Choosing the second expiration date\n",
    "option_chain = stock.option_chain(expiration_date)\n",
    "#\n",
    "# Extract call option data\n",
    "calls = option_chain.calls\n",
    "#\n",
    "# Get the current stock price using the updated indexing method\n",
    "current_price = stock.history(period=\"1d\")['Close'].iloc[0]  # Use .iloc for positional indexing\n",
    "#\n",
    "print(f\"Current stock price of AAPL: {current_price}\")"
   ]
  },
  {
   "cell_type": "code",
   "execution_count": 23,
   "id": "e5e2c377-75ce-4e0f-937f-fcedaad76a24",
   "metadata": {},
   "outputs": [
    {
     "name": "stdout",
     "output_type": "stream",
     "text": [
      "Selected Options:\n",
      "          contractSymbol  strike  lastPrice\n",
      "27  AAPL241011C00235000   235.0       2.65\n",
      "28  AAPL241011C00237500   237.5       1.65\n",
      "26  AAPL241011C00232500   232.5       3.95\n",
      "0   AAPL241011C00100000   100.0     128.52\n",
      "1   AAPL241011C00120000   120.0     103.30\n"
     ]
    }
   ],
   "source": [
    "# Select options: 2 out-of-the-money (OTM), 1 at-the-money (ATM), and 2 in-the-money (ITM)\n",
    "OTM_options = calls[calls['strike'] > current_price].head(2)\n",
    "ATM_option = calls.iloc[(calls['strike'] - current_price).abs().argsort()[:1]]\n",
    "ITM_options = calls[calls['strike'] < current_price].head(2)\n",
    "# Combine all selected options into one dataframe\n",
    "selected_options = pd.concat([OTM_options, ATM_option, ITM_options])\n",
    "print(\"Selected Options:\\n\", selected_options[['contractSymbol', 'strike', 'lastPrice']])"
   ]
  },
  {
   "cell_type": "code",
   "execution_count": 25,
   "id": "c6cf83e3-a89f-40fe-96a1-b78356856374",
   "metadata": {},
   "outputs": [],
   "source": [
    "# Function to calculate Black-Scholes theoretical option price\n",
    "def bsval(S, K, T, rf, sigma, type):\n",
    "    # Ensure sigma is positive\n",
    "    if sigma <= 0:\n",
    "        return np.nan\n",
    "    try:\n",
    "        d1 = (np.log(S / K) + (rf + 0.5 * sigma ** 2) * T) / (sigma * np.sqrt(T))\n",
    "        d2 = d1 - sigma * np.sqrt(T)\n",
    "    except (ZeroDivisionError, ValueError, OverflowError) as e:\n",
    "        print(\"Encountered an error in bsval calculation:\", e)\n",
    "        return np.nan  \n",
    "    if type == 1:\n",
    "        # Call option price calculation\n",
    "        return S * norm.cdf(d1) - K * np.exp(-rf * T) * norm.cdf(d2)\n",
    "    else:\n",
    "        # Put option price calculation\n",
    "        return K * np.exp(-rf * T) * norm.cdf(-d2) - S * norm.cdf(-d1)"
   ]
  },
  {
   "cell_type": "code",
   "execution_count": 15,
   "id": "44807027-03af-4e24-9f24-b29ad8999a04",
   "metadata": {},
   "outputs": [],
   "source": [
    "# Function to calculate implied volatility for each option\n",
    "def calculate_implied_volatility(price, S, K, T, rf, type):\n",
    "    guess1 = 0.5\n",
    "    val1 = bsval(S, K, T, rf, guess1, type)\n",
    "    guess2 = 0.075\n",
    "    val2 = bsval(S, K, T, rf, guess2, type)\n",
    "    check = abs(price - val2)\n",
    "    iteration = 0\n",
    "    max_iterations = 100  # Set a limit to avoid infinite loops\n",
    "    while check > 0.01 and iteration < max_iterations:\n",
    "        iteration += 1\n",
    "        # Handle potential division by zero\n",
    "        if val2 == val1:\n",
    "            print(\"Division by zero detected. Adjusting guesses.\")\n",
    "            guess2 += 0.01  # Slight adjustment to avoid division by zero\n",
    "            val2 = bsval(S, K, T, rf, guess2, type)\n",
    "            continue  \n",
    "        try:\n",
    "            guessnew = guess2 - ((guess2 - guess1) / (val2 - val1)) * (val2 - price)\n",
    "        except ZeroDivisionError:\n",
    "            print(\"ZeroDivisionError detected during calculation. Adjusting guess.\")\n",
    "            guessnew = guess2 + 0.01  # Adjust to continue   \n",
    "        guess1 = guess2\n",
    "        guess2 = guessnew\n",
    "        val1 = val2\n",
    "        val2 = bsval(S, K, T, rf, guess2, type) \n",
    "        # Recalculate the check value\n",
    "        check = abs(price - val2)\n",
    "    if iteration >= max_iterations:\n",
    "        print(f\"Did not converge within {max_iterations} iterations for option price =\", price)\n",
    "        return np.nan \n",
    "    implied_vol = guess2 * 100\n",
    "    implied_vol = np.round(implied_vol, 2)\n",
    "    return implied_vol"
   ]
  },
  {
   "cell_type": "code",
   "execution_count": 17,
   "id": "39a57f4e-5bc6-4e81-86fc-5971a803f125",
   "metadata": {},
   "outputs": [
    {
     "name": "stdout",
     "output_type": "stream",
     "text": [
      "Selected Options with Implied Volatility\n",
      "         contractSymbol  strike  lastPrice  Implied_Volatility\n",
      "27  AAPL241011C00235000   235.0       2.65                4.67\n",
      "28  AAPL241011C00237500   237.5       1.65                5.03\n",
      "26  AAPL241011C00232500   232.5       3.95                3.82\n",
      "0   AAPL241011C00100000   100.0     128.52           -84907.33\n",
      "1   AAPL241011C00120000   120.0     103.30           -11013.60\n"
     ]
    }
   ],
   "source": [
    "# Apply the implied volatility calculation to each selected option\n",
    "T = 0.25 \n",
    "rf = 0.05  \n",
    "type = 1  \n",
    "#\n",
    "# Calculate implied volatility for each option and add it to the dataframe\n",
    "selected_options['Implied_Volatility'] = selected_options.apply(\n",
    "    lambda row: calculate_implied_volatility(row['lastPrice'], current_price, row['strike'], T, rf, type),\n",
    "    axis=1)\n",
    "print(\"Selected Options with Implied Volatility\")\n",
    "print(selected_options[['contractSymbol', 'strike', 'lastPrice', 'Implied_Volatility']])"
   ]
  },
  {
   "cell_type": "code",
   "execution_count": 29,
   "id": "1c3a9a67-ee51-4cf2-9a1c-e4ded7295f7c",
   "metadata": {},
   "outputs": [],
   "source": [
    "# Observations\n",
    "# The OTM options show implied volatility in reason.\n",
    "# The ITM options have extreme negative values, suggesting calculation issues.\n",
    "# Implied volatility is more reliable for OTM than ITM options using this method?"
   ]
  },
  {
   "cell_type": "code",
   "execution_count": null,
   "id": "4aa46eec-f919-4a48-bcf3-5ede40c26253",
   "metadata": {},
   "outputs": [],
   "source": []
  }
 ],
 "metadata": {
  "kernelspec": {
   "display_name": "Python 3 (ipykernel)",
   "language": "python",
   "name": "python3"
  },
  "language_info": {
   "codemirror_mode": {
    "name": "ipython",
    "version": 3
   },
   "file_extension": ".py",
   "mimetype": "text/x-python",
   "name": "python",
   "nbconvert_exporter": "python",
   "pygments_lexer": "ipython3",
   "version": "3.12.4"
  }
 },
 "nbformat": 4,
 "nbformat_minor": 5
}
